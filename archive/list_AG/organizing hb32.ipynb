{
 "cells": [
  {
   "cell_type": "code",
   "execution_count": 43,
   "id": "8872d95e",
   "metadata": {},
   "outputs": [],
   "source": [
    "import pandas as pd\n",
    "import gspread\n",
    "from gspread_dataframe import set_with_dataframe\n",
    "from oauth2client.service_account import ServiceAccountCredentials\n",
    "\n",
    "# Auth\n",
    "scope = ['https://spreadsheets.google.com/feeds','https://www.googleapis.com/auth/drive']\n",
    "creds = ServiceAccountCredentials.from_json_keyfile_name('../gspread_creds.json', scope)\n",
    "client = gspread.authorize(creds)"
   ]
  },
  {
   "cell_type": "code",
   "execution_count": 44,
   "id": "343663b1",
   "metadata": {},
   "outputs": [],
   "source": [
    "# Open the sheet\n",
    "worksheet = client.open(\"Handbuch 1932\").worksheet(\"validated\")\n",
    "\n",
    "# Get all records as list of dicts\n",
    "records = worksheet.get_all_records()\n",
    "\n",
    "# Convert to DataFrame\n",
    "hb1932 = pd.DataFrame(records)\n",
    "\n",
    "bool_cols = ['Grossaktionär is a US comp',\n",
    "             'Director attached to a US company', \n",
    "             'US location linked to a director',\n",
    "             'US-sounding names', \n",
    "             'Bond issuance in the US', \n",
    "             'Other indicators are strong']\n",
    "hb1932[bool_cols] = hb1932[bool_cols].apply(lambda x: x == \"TRUE\")"
   ]
  },
  {
   "cell_type": "code",
   "execution_count": 45,
   "id": "3be862bb",
   "metadata": {},
   "outputs": [],
   "source": [
    "def assign_link_type_HB(row):\n",
    "    if row['Grossaktionär is a US comp']:\n",
    "        link_type = 'USO'\n",
    "    elif row['Director attached to a US company']:\n",
    "        link_type = 'USOP'\n",
    "    elif row['Other indicators are strong']:\n",
    "        link_type = 'USOP'\n",
    "    elif row['US location linked to a director']:\n",
    "        link_type = 'USC'\n",
    "    elif row['Bond issuance in the US']:\n",
    "        link_type = 'USB'\n",
    "    else:\n",
    "        link_type = 'Others'\n",
    "\n",
    "    return link_type"
   ]
  },
  {
   "cell_type": "code",
   "execution_count": 46,
   "id": "364a7f48",
   "metadata": {},
   "outputs": [],
   "source": [
    "hb1932['link_type'] = hb1932.apply(assign_link_type_HB, axis=1)\n",
    "hb1932 = hb1932.assign(org_type = 'AG')\n",
    "hb1932 = hb1932.rename(columns={'Master US firm name': 'US Company', \n",
    "                                'Master name': 'German subsidiary',\n",
    "                                'corrected firm name': 'Affiliated German firm (as in book)',\n",
    "                                'US parent': 'US firm (as in book)',\n",
    "                                })\n",
    "hb1932['Vol'] = (\n",
    "    \"Vol \" + hb1932['band'].astype(str) + \n",
    "    \", p. \" + hb1932['firmname_page'].astype(str)\n",
    ")\n",
    "\n",
    "hb1932_result = hb1932[['German subsidiary', 'US Company', 'link_type', 'org_type', 'US firm (as in book)', 'Affiliated German firm (as in book)', 'Vol', 'Grossaktionär is a US comp',\n",
    "       'Director attached to a US company', 'US location linked to a director',\n",
    "       'US-sounding names', 'Bond issuance in the US', 'Other indicators',\n",
    "       'Other indicators are strong']]\n",
    "\n",
    "hb1932_cleaned = hb1932_result[hb1932_result['link_type']!='Others']"
   ]
  },
  {
   "cell_type": "code",
   "execution_count": null,
   "id": "73875f02",
   "metadata": {},
   "outputs": [],
   "source": [
    "hb1932_cleaned.to_csv('../output/hb32_cleaned.csv', index=False)"
   ]
  }
 ],
 "metadata": {
  "kernelspec": {
   "display_name": ".venv",
   "language": "python",
   "name": "python3"
  },
  "language_info": {
   "codemirror_mode": {
    "name": "ipython",
    "version": 3
   },
   "file_extension": ".py",
   "mimetype": "text/x-python",
   "name": "python",
   "nbconvert_exporter": "python",
   "pygments_lexer": "ipython3",
   "version": "3.12.5"
  }
 },
 "nbformat": 4,
 "nbformat_minor": 5
}
