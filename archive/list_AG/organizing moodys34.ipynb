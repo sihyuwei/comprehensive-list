{
 "cells": [
  {
   "cell_type": "code",
   "execution_count": 3,
   "id": "ee9b811a",
   "metadata": {},
   "outputs": [],
   "source": [
    "import pandas as pd\n",
    "import gspread\n",
    "from gspread_dataframe import set_with_dataframe\n",
    "from oauth2client.service_account import ServiceAccountCredentials\n",
    "\n",
    "# Auth\n",
    "scope = ['https://spreadsheets.google.com/feeds','https://www.googleapis.com/auth/drive']\n",
    "creds = ServiceAccountCredentials.from_json_keyfile_name('../gspread_creds.json', scope)\n",
    "client = gspread.authorize(creds)"
   ]
  },
  {
   "cell_type": "code",
   "execution_count": 4,
   "id": "2cae5f46",
   "metadata": {},
   "outputs": [],
   "source": [
    "# Open the sheet\n",
    "worksheet = client.open(\"Moodys 1934\").worksheet(\"reviewed-expanded\")\n",
    "\n",
    "# Get all records as list of dicts\n",
    "records = worksheet.get_all_records()\n",
    "\n",
    "# Convert to DataFrame\n",
    "moodys34 = pd.DataFrame(records)\n",
    "\n",
    "bool_cols = ['mentions a subsidiary', \n",
    "             'mentions stock ownership',\n",
    "             'affiliated company is AG',\n",
    "             'affiliated company is GmbH',\n",
    "             'mentions an affiliated company',\n",
    "             'mentions a plant/office/branch', \n",
    "             'is a subsidiary of a German firm',\n",
    "             'other types of agreement']\n",
    "moodys34[bool_cols] = moodys34[bool_cols].apply(lambda x: x == \"TRUE\")\n",
    "moodys34['affiliated German firm name'] = moodys34['affiliated German firm name'].replace('NA', '')"
   ]
  },
  {
   "cell_type": "code",
   "execution_count": 5,
   "id": "0b0d9594",
   "metadata": {},
   "outputs": [],
   "source": [
    "def assign_link_type(row):\n",
    "    if row['mentions a subsidiary']:\n",
    "        link_type = 'USO'\n",
    "    elif row['mentions stock ownership']:\n",
    "        link_type = 'USOP'\n",
    "    elif row['mentions an affiliated company']:\n",
    "        link_type = 'USC'\n",
    "    elif row['other types of agreement']:\n",
    "        link_type = 'USC'\n",
    "    elif row['is a subsidiary of a German firm']:\n",
    "        link_type = 'DEO'\n",
    "    else:\n",
    "        link_type = 'Others'\n",
    "\n",
    "    return link_type\n",
    "\n",
    "def assign_org_type(row):\n",
    "    if row['affiliated company is AG']:\n",
    "        org_type = 'AG'\n",
    "    elif row['affiliated company is GmbH']:\n",
    "        org_type = 'GmbH'\n",
    "    else:\n",
    "        org_type = 'Others'\n",
    "\n",
    "    return org_type\n",
    "\n",
    "moodys34['link_type'] = moodys34.apply(assign_link_type, axis=1)\n",
    "moodys34['org_type'] = moodys34.apply(assign_org_type, axis=1)"
   ]
  },
  {
   "cell_type": "code",
   "execution_count": 6,
   "id": "0cadb8a6",
   "metadata": {},
   "outputs": [],
   "source": [
    "moodys34_cleaned = moodys34.rename(columns={'Master US firm name': 'US Company', \n",
    "                                           'Master German firm name': 'German subsidiary',\n",
    "                                           'affiliated German firm name': 'Affiliated German firm (as in book)',\n",
    "                                           'US company name': 'US firm (as in book)',\n",
    "                                           'notes': 'Description'})\n",
    "moodys34_cleaned = moodys34_cleaned[['German subsidiary', 'US Company', 'link_type', 'org_type', 'US firm (as in book)', 'Affiliated German firm (as in book)', 'Description']]"
   ]
  },
  {
   "cell_type": "code",
   "execution_count": 7,
   "id": "ea13ae1a",
   "metadata": {},
   "outputs": [],
   "source": [
    "moodys34_cleaned.to_csv('../output/moodys34_cleaned.csv', index=False)"
   ]
  }
 ],
 "metadata": {
  "kernelspec": {
   "display_name": ".venv",
   "language": "python",
   "name": "python3"
  },
  "language_info": {
   "codemirror_mode": {
    "name": "ipython",
    "version": 3
   },
   "file_extension": ".py",
   "mimetype": "text/x-python",
   "name": "python",
   "nbconvert_exporter": "python",
   "pygments_lexer": "ipython3",
   "version": "3.12.5"
  }
 },
 "nbformat": 4,
 "nbformat_minor": 5
}
