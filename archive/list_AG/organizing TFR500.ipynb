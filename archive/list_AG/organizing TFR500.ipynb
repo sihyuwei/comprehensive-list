{
 "cells": [
  {
   "cell_type": "code",
   "execution_count": 18,
   "id": "ee5a5b50",
   "metadata": {},
   "outputs": [],
   "source": [
    "import pandas as pd\n",
    "import gspread\n",
    "from gspread_dataframe import set_with_dataframe\n",
    "from oauth2client.service_account import ServiceAccountCredentials\n",
    "\n",
    "# Auth\n",
    "scope = ['https://spreadsheets.google.com/feeds','https://www.googleapis.com/auth/drive']\n",
    "creds = ServiceAccountCredentials.from_json_keyfile_name('../gspread_creds.json', scope)\n",
    "client = gspread.authorize(creds)"
   ]
  },
  {
   "cell_type": "code",
   "execution_count": 19,
   "id": "eff61da4",
   "metadata": {},
   "outputs": [],
   "source": [
    "# Open the sheet\n",
    "worksheet = client.open(\"tfr500_summarized\").worksheet(\"classified\")\n",
    "\n",
    "# Get all records as list of dicts\n",
    "records = worksheet.get_all_records()\n",
    "\n",
    "# Convert to DataFrame\n",
    "tfr500 = pd.DataFrame(records)"
   ]
  },
  {
   "cell_type": "code",
   "execution_count": 21,
   "id": "aa858014",
   "metadata": {},
   "outputs": [],
   "source": [
    "org_type_mapping = {\n",
    "    'Corporation (Aktiengesellschaft)': 'AG',\n",
    "    'GmbH': 'GmbH',\n",
    "}\n",
    "link_type_mapping = {\n",
    "    'ownership': 'USO', \n",
    "    'unknown': 'USOP', \n",
    "    'Partnership': 'USC', \n",
    "    'branch': 'USO'\n",
    "}\n",
    "\n",
    "tfr500['org_type'] = tfr500['Type of Organization'].map(org_type_mapping).fillna(\"Others\")\n",
    "tfr500['link_type'] = tfr500['Type of Investment'].map(link_type_mapping).fillna(\"Others\")"
   ]
  },
  {
   "cell_type": "code",
   "execution_count": null,
   "id": "39125f49",
   "metadata": {},
   "outputs": [],
   "source": [
    "tfr500 = tfr500.rename(columns={'American Owner - Name': 'US Company', \n",
    "                                'Master German firm name': 'German subsidiary'})\n",
    "tfr500_cleaned = tfr500[['German subsidiary', 'US Company', 'Owned Through (Allied Foreign Organization)', 'link_type', 'org_type', 'Type of Investment', 'Type of Organization', 'Percent Owned']]"
   ]
  },
  {
   "cell_type": "code",
   "execution_count": null,
   "id": "a907fe51",
   "metadata": {},
   "outputs": [],
   "source": [
    "tfr500_cleaned.to_csv('../output/tfr_cleaned.csv', index=False)"
   ]
  }
 ],
 "metadata": {
  "kernelspec": {
   "display_name": ".venv",
   "language": "python",
   "name": "python3"
  },
  "language_info": {
   "codemirror_mode": {
    "name": "ipython",
    "version": 3
   },
   "file_extension": ".py",
   "mimetype": "text/x-python",
   "name": "python",
   "nbconvert_exporter": "python",
   "pygments_lexer": "ipython3",
   "version": "3.12.5"
  }
 },
 "nbformat": 4,
 "nbformat_minor": 5
}
