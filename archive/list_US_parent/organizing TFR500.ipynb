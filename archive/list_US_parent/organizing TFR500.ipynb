{
 "cells": [
  {
   "cell_type": "code",
   "execution_count": 16,
   "id": "ee5a5b50",
   "metadata": {},
   "outputs": [],
   "source": [
    "import pandas as pd\n",
    "import gspread\n",
    "from gspread_dataframe import set_with_dataframe\n",
    "from oauth2client.service_account import ServiceAccountCredentials\n",
    "\n",
    "# Auth\n",
    "scope = ['https://spreadsheets.google.com/feeds','https://www.googleapis.com/auth/drive']\n",
    "creds = ServiceAccountCredentials.from_json_keyfile_name('../gspread_creds.json', scope)\n",
    "client = gspread.authorize(creds)"
   ]
  },
  {
   "cell_type": "code",
   "execution_count": 17,
   "id": "eff61da4",
   "metadata": {},
   "outputs": [],
   "source": [
    "# Open the sheet\n",
    "worksheet = client.open(\"tfr500_summarized\").worksheet(\"classified\")\n",
    "\n",
    "# Get all records as list of dicts\n",
    "records = worksheet.get_all_records()\n",
    "\n",
    "# Convert to DataFrame\n",
    "tfr500 = pd.DataFrame(records)\n",
    "\n",
    "# one-hot encoding investment types # for later aggregating purpose\n",
    "type_expanded = pd.get_dummies(tfr500[\"Type of investment\"], prefix=\"type\")\n",
    "tfr500 = pd.concat([tfr500, type_expanded], axis=1)"
   ]
  },
  {
   "cell_type": "code",
   "execution_count": 18,
   "id": "a907fe51",
   "metadata": {},
   "outputs": [],
   "source": [
    "tfr500 = tfr500.rename(columns={'American Owner - Name': 'US Company'})\n",
    "tfr500.to_csv('output/tfr.csv', index=False)"
   ]
  }
 ],
 "metadata": {
  "kernelspec": {
   "display_name": ".venv",
   "language": "python",
   "name": "python3"
  },
  "language_info": {
   "codemirror_mode": {
    "name": "ipython",
    "version": 3
   },
   "file_extension": ".py",
   "mimetype": "text/x-python",
   "name": "python",
   "nbconvert_exporter": "python",
   "pygments_lexer": "ipython3",
   "version": "3.12.5"
  }
 },
 "nbformat": 4,
 "nbformat_minor": 5
}
